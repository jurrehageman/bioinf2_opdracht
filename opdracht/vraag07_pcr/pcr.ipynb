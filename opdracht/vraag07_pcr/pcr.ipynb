{
 "cells": [
  {
   "cell_type": "markdown",
   "metadata": {},
   "source": [
    "# Generate PCR templates"
   ]
  },
  {
   "cell_type": "code",
   "execution_count": 49,
   "metadata": {},
   "outputs": [
    {
     "name": "stdout",
     "output_type": "stream",
     "text": [
      "done\n"
     ]
    }
   ],
   "source": [
    "import random\n",
    "import os\n",
    "file_content = []\n",
    "with open(\"sequence.fasta\") as f:    \n",
    "    for linenum, line in enumerate(f):\n",
    "        if linenum != 0:           \n",
    "            file_content.append(line.strip())\n",
    "file_content = \"\".join(file_content)\n",
    "#print(file_content)\n",
    "\n",
    "for i in range(100):\n",
    "    filename = str(i + 1) + \".fasta\"\n",
    "    random_dna = \"\".join([random.choice(\"ATCG\") for i in range(random.randint(10, 100))])\n",
    "    text = file_content[1:500] + random_dna + file_content[501:]\n",
    "    \n",
    "    with open(os.path.join(\"files\", filename), \"w\") as f:\n",
    "        f.write(\">please_pcr_me\\n\")\n",
    "        f.write(text)\n",
    "print(\"done\")\n",
    "    "
   ]
  },
  {
   "cell_type": "code",
   "execution_count": null,
   "metadata": {},
   "outputs": [],
   "source": []
  }
 ],
 "metadata": {
  "kernelspec": {
   "display_name": "Python 3",
   "language": "python",
   "name": "python3"
  },
  "language_info": {
   "codemirror_mode": {
    "name": "ipython",
    "version": 3
   },
   "file_extension": ".py",
   "mimetype": "text/x-python",
   "name": "python",
   "nbconvert_exporter": "python",
   "pygments_lexer": "ipython3",
   "version": "3.7.4"
  }
 },
 "nbformat": 4,
 "nbformat_minor": 2
}
