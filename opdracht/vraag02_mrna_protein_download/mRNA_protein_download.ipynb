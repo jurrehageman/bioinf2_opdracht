{
 "cells": [
  {
   "cell_type": "markdown",
   "metadata": {},
   "source": [
    "# mRNA protein download"
   ]
  },
  {
   "cell_type": "code",
   "execution_count": 1,
   "metadata": {},
   "outputs": [
    {
     "name": "stdout",
     "output_type": "stream",
     "text": [
      "done\n"
     ]
    }
   ],
   "source": [
    "import random\n",
    "import os\n",
    "\n",
    "gene_symbols = []\n",
    "with open(\"gene_symbols.txt\") as f:\n",
    "    for line in f:\n",
    "        line = line.strip()\n",
    "        if not \"orf\" in line:\n",
    "            gene_symbols.append(line)\n",
    "\n",
    "            \n",
    "body = \"\"\"Download de referentie mRNA sequentie en de referentie eiwit sequentie van het gen met het gensymbool {} van de mens (Homo sapiens). \n",
    "Geef de eerste 5 nucleotiden en de eerste 5 aminozuren gescheiden door een streepje.\n",
    "Let op: Indien er meerdere isoformen aanwezig zijn kies je de isoform met het laagste cijfer of de eerste letter.\n",
    "Dus isoform 1 of isoform A.\n",
    "Voorbeeld antwoord:\n",
    "ATCGA-MVSKG\n",
    "\n",
    "\"\"\"\n",
    "option2_body = \"\"\"Indien er zich problemen voordoen (in zeer zeldzame gevallen is er geen mRNA voorhanden) dan mag je optie 2 gebruiken.\n",
    "Gebruik dan gensymbool: {}\"\"\"\n",
    "\n",
    "for file_num in range(100):\n",
    "    gene_symbol = random.choice(gene_symbols)\n",
    "    gene_symbols.remove(gene_symbol)\n",
    "    option2 = random.choice(gene_symbols)\n",
    "    gene_symbols.remove(option2)\n",
    "    total_txt = body.format(gene_symbol) + option2_body.format(option2)\n",
    "    filename = str(file_num + 1) + \".txt\"    \n",
    "    with open(os.path.join(\"files\", filename), \"w\") as f:\n",
    "        f.write(total_txt)\n",
    "print(\"done\")\n"
   ]
  },
  {
   "cell_type": "code",
   "execution_count": null,
   "metadata": {},
   "outputs": [],
   "source": []
  }
 ],
 "metadata": {
  "kernelspec": {
   "display_name": "Python 3",
   "language": "python",
   "name": "python3"
  },
  "language_info": {
   "codemirror_mode": {
    "name": "ipython",
    "version": 3
   },
   "file_extension": ".py",
   "mimetype": "text/x-python",
   "name": "python",
   "nbconvert_exporter": "python",
   "pygments_lexer": "ipython3",
   "version": "3.7.4"
  }
 },
 "nbformat": 4,
 "nbformat_minor": 2
}
