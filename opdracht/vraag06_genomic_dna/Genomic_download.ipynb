{
 "cells": [
  {
   "cell_type": "markdown",
   "metadata": {},
   "source": [
    "# Genomic Download"
   ]
  },
  {
   "cell_type": "code",
   "execution_count": 1,
   "metadata": {},
   "outputs": [
    {
     "name": "stdout",
     "output_type": "stream",
     "text": [
      "done\n"
     ]
    }
   ],
   "source": [
    "import random\n",
    "import os\n",
    "species = \"Homo sapiens\"\n",
    "chromosomes = [str(i) for i in range(1, 23)] + [\"X\", \"Y\"]\n",
    "#reverse_strand = [\"Yes\", \"No\"]\n",
    "reverse_strand = [\"Yes\"] # Not much to choose from here ;-)\n",
    "\n",
    "option1 = \"\"\"Optie 1\n",
    "Species: {}\n",
    "Chromosome: {}\n",
    "Position: {}\n",
    "Complement strand: {}\n",
    "\n",
    "\"\"\"\n",
    "\n",
    "option2 = \"\"\"Optie 2: Alleen gebruiken als optie 1 niet lukt!\n",
    "Species: {}\n",
    "Chromosome: {}\n",
    "Position: {}\n",
    "Complement strand: {}\n",
    "\"\"\"\n",
    "\n",
    "for file_num in range(100):\n",
    "    chromosome = random.choice(chromosomes)\n",
    "    start = random.randint(100000, 200000) \n",
    "    stop = start + 20\n",
    "    pos = \"{}-{}\".format(start, stop)\n",
    "    comp = random.choice(reverse_strand)\n",
    "    mssg = option1.format(species, chromosome, pos, comp)\n",
    "    start2 = random.randint(100000, 200000)\n",
    "    stop2 = start2 + 20\n",
    "    pos2 = \"{}-{}\".format(start2, stop2)\n",
    "    chromosome2 = random.choice(chromosomes)\n",
    "    comp2 = random.choice(reverse_strand)\n",
    "    mssg2 = option2.format(species, chromosome2, pos2, comp2)\n",
    "    filename = str(file_num + 1) + \".txt\"    \n",
    "    with open(os.path.join(\"files\", filename), \"w\") as f:\n",
    "        f.write(mssg)\n",
    "        f.write(mssg2)\n",
    "print(\"done\")"
   ]
  },
  {
   "cell_type": "code",
   "execution_count": null,
   "metadata": {},
   "outputs": [],
   "source": []
  }
 ],
 "metadata": {
  "kernelspec": {
   "display_name": "Python 3",
   "language": "python",
   "name": "python3"
  },
  "language_info": {
   "codemirror_mode": {
    "name": "ipython",
    "version": 3
   },
   "file_extension": ".py",
   "mimetype": "text/x-python",
   "name": "python",
   "nbconvert_exporter": "python",
   "pygments_lexer": "ipython3",
   "version": "3.7.4"
  }
 },
 "nbformat": 4,
 "nbformat_minor": 2
}
