{
 "cells": [
  {
   "cell_type": "markdown",
   "metadata": {},
   "source": [
    "# Pubmed"
   ]
  },
  {
   "cell_type": "code",
   "execution_count": 2,
   "metadata": {},
   "outputs": [
    {
     "name": "stdout",
     "output_type": "stream",
     "text": [
      "done\n"
     ]
    }
   ],
   "source": [
    "import random\n",
    "import os\n",
    "\n",
    "names = \"Zhang Wang Williams\".split()\n",
    "journals = [\"Nature\", \"Science\", \"Cell\", \"The Journal of Biological Chemistry\", \"Biochemistry\"]\n",
    "#types_article = [\"Free full text\", \"Review\"]\n",
    "types_article = [\"Free full text\"]\n",
    "title_words = \"DNA RNA protein antibody transcription translation apoptosis cell\".split()\n",
    "\n",
    "\n",
    "options = \"\"\"Optie {}:\n",
    "Auteur (author): {}\n",
    "Tijdschrift (journal): {}\n",
    "Type artikel: {}\n",
    "Woord in de titel (title): {}\n",
    "\n",
    "\"\"\"\n",
    "\n",
    "options_used = []\n",
    "for file_num, question in enumerate(range(100)):\n",
    "    option_text = \"\"\n",
    "    option_num = 0\n",
    "    mssg = \"\"\n",
    "    while option_num < 3:\n",
    "        name = random.choice(names)\n",
    "        journal = random.choice(journals)\n",
    "        type_article = random.choice(types_article)\n",
    "        title_word = random.choice(title_words)\n",
    "        option_text = options.format(option_num + 1, name, journal, type_article, title_word)\n",
    "        if option_text not in options_used:\n",
    "            mssg += option_text\n",
    "            option_num += 1\n",
    "            options_used.append(option_text)\n",
    "        else:\n",
    "            continue\n",
    "        \n",
    "        \n",
    "    filename = str(file_num + 1) + \".txt\"    \n",
    "    with open(os.path.join(\"files\", filename), \"w\") as f:\n",
    "        f.write(mssg)\n",
    "print(\"done\")\n"
   ]
  }
 ],
 "metadata": {
  "kernelspec": {
   "display_name": "Python 3",
   "language": "python",
   "name": "python3"
  },
  "language_info": {
   "codemirror_mode": {
    "name": "ipython",
    "version": 3
   },
   "file_extension": ".py",
   "mimetype": "text/x-python",
   "name": "python",
   "nbconvert_exporter": "python",
   "pygments_lexer": "ipython3",
   "version": "3.7.4"
  }
 },
 "nbformat": 4,
 "nbformat_minor": 2
}
