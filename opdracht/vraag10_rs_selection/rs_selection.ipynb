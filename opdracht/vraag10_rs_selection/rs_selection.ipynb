{
 "cells": [
  {
   "cell_type": "markdown",
   "metadata": {},
   "source": [
    "# RS selection"
   ]
  },
  {
   "cell_type": "code",
   "execution_count": 4,
   "metadata": {},
   "outputs": [
    {
     "name": "stdout",
     "output_type": "stream",
     "text": [
      "WARNING, RS detected\n",
      "WARNING, RS detected\n",
      "WARNING, RS detected\n",
      "WARNING, RS detected\n",
      "WARNING, RS detected\n",
      "WARNING, RS detected\n",
      "WARNING, RS detected\n",
      "WARNING, RS detected\n",
      "WARNING, RS detected\n",
      "WARNING, RS detected\n",
      "WARNING, RS detected\n",
      "done\n"
     ]
    }
   ],
   "source": [
    "import random\n",
    "import os\n",
    "\n",
    "restriction_sites = {\"EcoR1\": \"GAATTC\",\n",
    "                    \"HindIII\": \"AAGCTT\",\n",
    "                    \"BamHI\": \"GGATCC\",\n",
    "                    \"KpnI\": \"GGTACC\",\n",
    "                    \"XbaI\": \"TCTAGA\",\n",
    "                    \"XmaI\": \"CCCGGG\",\n",
    "                    \"PstI\": \"CTGCAG\"}\n",
    "\n",
    "\n",
    "def gen_random_seq():\n",
    "    bases = \"GATC\"\n",
    "    random_seq = [random.choice(bases) for i in range(random.randint(25, 50))]\n",
    "    return random_seq\n",
    "\n",
    "\n",
    "def generate_seq():\n",
    "    global restriction_sites_copy\n",
    "    restriction_sites_copy = restriction_sites.copy()\n",
    "    dna = []\n",
    "    for i in range(5):\n",
    "        random_seq = gen_random_seq()\n",
    "        dna += random_seq\n",
    "        re = random.choice(list(restriction_sites_copy))\n",
    "        dna.append(restriction_sites_copy[re])\n",
    "        del restriction_sites_copy[re]\n",
    "    random_seq = gen_random_seq()\n",
    "    dna += random_seq\n",
    "    return \"\".join(dna)\n",
    "\n",
    "\n",
    "def main():\n",
    "    filenum = 0\n",
    "    while filenum < 100:\n",
    "        seq = generate_seq()\n",
    "        rs_left = list(restriction_sites_copy)\n",
    "        if restriction_sites_copy[rs_left[0]] in seq or restriction_sites_copy[rs_left[1]] in seq:\n",
    "            print(\"WARNING, RS detected\")\n",
    "            continue \n",
    "        filename = str(filenum + 1) + \".fasta\"    \n",
    "        with open(os.path.join(\"files\", filename), \"w\") as f:\n",
    "            f.write(\">select_restriction_enzymes\\n\")\n",
    "            f.write(seq)\n",
    "        filenum += 1\n",
    "    print(\"done\")\n",
    "\n",
    "main()"
   ]
  },
  {
   "cell_type": "code",
   "execution_count": null,
   "metadata": {},
   "outputs": [],
   "source": []
  },
  {
   "cell_type": "code",
   "execution_count": null,
   "metadata": {},
   "outputs": [],
   "source": []
  }
 ],
 "metadata": {
  "kernelspec": {
   "display_name": "Python 3",
   "language": "python",
   "name": "python3"
  },
  "language_info": {
   "codemirror_mode": {
    "name": "ipython",
    "version": 3
   },
   "file_extension": ".py",
   "mimetype": "text/x-python",
   "name": "python",
   "nbconvert_exporter": "python",
   "pygments_lexer": "ipython3",
   "version": "3.7.4"
  }
 },
 "nbformat": 4,
 "nbformat_minor": 2
}
