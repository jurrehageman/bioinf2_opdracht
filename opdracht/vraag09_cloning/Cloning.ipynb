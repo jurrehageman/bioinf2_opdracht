{
 "cells": [
  {
   "cell_type": "markdown",
   "metadata": {},
   "source": [
    "# Cloning"
   ]
  },
  {
   "cell_type": "code",
   "execution_count": 1,
   "metadata": {},
   "outputs": [
    {
     "name": "stdout",
     "output_type": "stream",
     "text": [
      "done\n"
     ]
    }
   ],
   "source": [
    "import random\n",
    "import os\n",
    "\n",
    "restriction_sites = {\"EcoR1\": \"GAATTC\",\n",
    "                    \"HindIII\": \"AAGCTT\",\n",
    "                    \"BamHI\": \"GGATCC\",\n",
    "                    \"KpnI\": \"GGTACC\",\n",
    "                    \"XbaI\": \"TCTAGA\",\n",
    "                    \"PstI\": \"CTGCAG\"}\n",
    "\n",
    "def generate_seq():\n",
    "    bases = \"GATC\"\n",
    "    dna = [\"ATG\"]\n",
    "    codons = [i + j + k for i in bases for j in bases for k in bases]\n",
    "    stops = \"TAA TGA TAG\".split()\n",
    "    codons_no_start = codons[:] #make copy of list\n",
    "    codons_no_start.remove(\"ATG\")\n",
    "    codons_no_stop = codons[:]\n",
    "    codons_no_stop.remove(\"TAA\"); codons_no_stop.remove(\"TGA\"); codons_no_stop.remove(\"TAG\")\n",
    "    cds = [random.choice(codons_no_stop) for i in range(random.randint(100, 500))]\n",
    "    dna += cds\n",
    "    dna.append(random.choice(stops))\n",
    "    return \"\".join(dna)\n",
    "\n",
    "for i in range(100):\n",
    "    restriction_sites_copy = restriction_sites.copy()\n",
    "    re1 = random.choice(list(restriction_sites_copy))\n",
    "    del restriction_sites_copy[re1]\n",
    "    re2 = random.choice(list(restriction_sites_copy))\n",
    "    seq = restriction_sites[re1]\n",
    "    while restriction_sites[re1] in seq or restriction_sites[re2] in seq:\n",
    "#         if restriction_sites[re1] in seq:\n",
    "#             print(\"{} found in seq\".format(re1))\n",
    "#         elif restriction_sites[re2] in seq:\n",
    "#             print(\"{} found in seq\".format(re2))\n",
    "        seq = generate_seq()\n",
    "    seq = restriction_sites[re1] + seq + restriction_sites[re2]\n",
    "    filename = str(i + 1) + \".fasta\"    \n",
    "    with open(os.path.join(\"files\", filename), \"w\") as f:\n",
    "        f.write(\">clone_me\\n\")\n",
    "        f.write(seq)\n",
    "print(\"done\")\n",
    "    "
   ]
  },
  {
   "cell_type": "code",
   "execution_count": null,
   "metadata": {},
   "outputs": [],
   "source": []
  }
 ],
 "metadata": {
  "kernelspec": {
   "display_name": "Python 3",
   "language": "python",
   "name": "python3"
  },
  "language_info": {
   "codemirror_mode": {
    "name": "ipython",
    "version": 3
   },
   "file_extension": ".py",
   "mimetype": "text/x-python",
   "name": "python",
   "nbconvert_exporter": "python",
   "pygments_lexer": "ipython3",
   "version": "3.7.4"
  }
 },
 "nbformat": 4,
 "nbformat_minor": 2
}
