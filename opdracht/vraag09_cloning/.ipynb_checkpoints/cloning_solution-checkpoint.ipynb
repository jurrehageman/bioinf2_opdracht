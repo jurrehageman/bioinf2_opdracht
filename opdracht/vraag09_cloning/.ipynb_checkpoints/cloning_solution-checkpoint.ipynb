{
 "cells": [
  {
   "cell_type": "markdown",
   "metadata": {},
   "source": [
    "# Cloning solution"
   ]
  },
  {
   "cell_type": "code",
   "execution_count": 37,
   "metadata": {},
   "outputs": [
    {
     "name": "stdout",
     "output_type": "stream",
     "text": [
      "files\\2.fasta 3622\n",
      "done\n"
     ]
    }
   ],
   "source": [
    "import os\n",
    "\n",
    "vector_name = \"puc18.gbk\"\n",
    "restriction_sites = {\"EcoR1\": \"GAATTC\",\n",
    "                    \"HindIII\": \"AAGCTT\",\n",
    "                    \"BamHI\": \"GGATCC\",\n",
    "                    \"KpnI\": \"GGTACC\",\n",
    "                    \"XbaI\": \"TCTAGA\",\n",
    "                    \"PstI\": \"CTGCAG\"}\n",
    "\n",
    "restriction_enzymes = {v: k for k, v in restriction_sites.items()}\n",
    "\n",
    "def read_rs(seq):\n",
    "    rs_5_end = restriction_enzymes[seq[:6]]\n",
    "    rs_3_end = restriction_enzymes[seq[-6:]]\n",
    "    return rs_5_end, rs_3_end\n",
    "\n",
    "\n",
    "def cut_vector(vector, rs):\n",
    "    pos_rs1 = vector.find(restriction_sites[rs[0]])\n",
    "    pos_rs2 = vector.find(restriction_sites[rs[1]])\n",
    "    vector_cut = vector[pos_rs2 + 6:] + vector[:pos_rs1]\n",
    "    return vector_cut\n",
    "\n",
    "\n",
    "def ligate(vector_cut, insert):\n",
    "    # needs to improve later on to make the actual sequence (directional cloning)\n",
    "    # now dirty just to provide correct length\n",
    "    ligation = vector_cut + insert\n",
    "    return ligation\n",
    "    \n",
    "\n",
    "def read_vector(vector_name):\n",
    "    with open(vector_name) as f:\n",
    "        seq = []\n",
    "        for line in f:\n",
    "            line = line.strip().split()\n",
    "            if line[0].isnumeric():\n",
    "                line = \"\".join([i.upper() for i in line[1:]])\n",
    "                seq.append(line)\n",
    "    return \"\".join(seq)\n",
    "\n",
    "\n",
    "def read_file(filepath):\n",
    "    with open(filepath) as f:\n",
    "        seq = []\n",
    "        for line in f:\n",
    "            if not line.startswith(\">\"):\n",
    "                seq.append(line.strip())\n",
    "    return \"\".join(seq)\n",
    "\n",
    "\n",
    "def main():\n",
    "    folder = \"files\"\n",
    "    out_file = \"answers.csv\"\n",
    "    num_of_files = 0\n",
    "    vector = read_vector(vector_name)\n",
    "    for filename in os.listdir(folder):\n",
    "        if filename.endswith(\".fasta\"):\n",
    "            num_of_files += 1\n",
    "    answer_list = []\n",
    "    for filenum in range(num_of_files):\n",
    "        filepath = os.path.join(\"files\", str(filenum + 1) + \".fasta\")\n",
    "        if not filepath == \"files\\\\2.fasta\":\n",
    "            continue\n",
    "            \n",
    "        seq = read_file(filepath)\n",
    "        rs = read_rs(seq)\n",
    "        vector_cut = cut_vector(vector, rs)\n",
    "        ligation = ligate(vector_cut, seq)\n",
    "        len_ligation = len(ligation)\n",
    "        print(filepath, len_ligation)\n",
    "\n",
    "#     with open(out_file, \"w\") as f:\n",
    "#         for i in answer_list:\n",
    "#             write_str = \"{};{}\\n\".format(i[0], i[1])\n",
    "#             f.write(write_str)\n",
    "    print(\"done\")\n",
    "    \n",
    "main()"
   ]
  },
  {
   "cell_type": "code",
   "execution_count": null,
   "metadata": {},
   "outputs": [],
   "source": []
  }
 ],
 "metadata": {
  "kernelspec": {
   "display_name": "Python 3",
   "language": "python",
   "name": "python3"
  },
  "language_info": {
   "codemirror_mode": {
    "name": "ipython",
    "version": 3
   },
   "file_extension": ".py",
   "mimetype": "text/x-python",
   "name": "python",
   "nbconvert_exporter": "python",
   "pygments_lexer": "ipython3",
   "version": "3.7.4"
  }
 },
 "nbformat": 4,
 "nbformat_minor": 2
}
