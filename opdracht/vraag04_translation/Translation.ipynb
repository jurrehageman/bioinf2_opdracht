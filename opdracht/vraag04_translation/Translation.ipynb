{
 "cells": [
  {
   "cell_type": "markdown",
   "metadata": {},
   "source": [
    "# Translation"
   ]
  },
  {
   "cell_type": "code",
   "execution_count": 2,
   "metadata": {},
   "outputs": [
    {
     "name": "stdout",
     "output_type": "stream",
     "text": [
      "done\n"
     ]
    }
   ],
   "source": [
    "import random\n",
    "import os\n",
    "\n",
    "\n",
    "def generate_seq():\n",
    "    bases = \"GATC\"\n",
    "    dna = []\n",
    "    codons = [i + j + k for i in bases for j in bases for k in bases]\n",
    "    stops = \"TAA TGA TAG\".split()\n",
    "    codons_no_start = codons[:] #make copy of list\n",
    "    codons_no_start.remove(\"ATG\")\n",
    "    codons_no_stop = codons[:]\n",
    "    codons_no_stop.remove(\"TAA\"); codons_no_stop.remove(\"TGA\"); codons_no_stop.remove(\"TAG\")\n",
    "    utr_5 = [random.choice(codons_no_start) for i in range(100)]\n",
    "    dna += utr_5\n",
    "    dna.append(\"ATG\")\n",
    "    cds = [random.choice(codons_no_stop) for i in range(500)]\n",
    "    dna += cds\n",
    "    dna.append(random.choice(stops))\n",
    "    utr_3 = [random.choice(codons) for i in range(random.randint(10, 100))]\n",
    "    dna += utr_3\n",
    "    return \"\".join(dna)\n",
    "\n",
    "\n",
    "for i in range(100):\n",
    "    seq = generate_seq()\n",
    "    filename = str(i + 1) + \".fasta\"    \n",
    "    with open(os.path.join(\"files\", filename), \"w\") as f:\n",
    "        f.write(\">please_translate_me\\n\")\n",
    "        f.write(seq)\n",
    "print(\"done\")\n",
    "    "
   ]
  }
 ],
 "metadata": {
  "kernelspec": {
   "display_name": "Python 3",
   "language": "python",
   "name": "python3"
  },
  "language_info": {
   "codemirror_mode": {
    "name": "ipython",
    "version": 3
   },
   "file_extension": ".py",
   "mimetype": "text/x-python",
   "name": "python",
   "nbconvert_exporter": "python",
   "pygments_lexer": "ipython3",
   "version": "3.7.4"
  }
 },
 "nbformat": 4,
 "nbformat_minor": 2
}
