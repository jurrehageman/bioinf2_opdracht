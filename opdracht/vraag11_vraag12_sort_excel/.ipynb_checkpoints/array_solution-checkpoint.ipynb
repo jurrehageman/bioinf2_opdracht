{
 "cells": [
  {
   "cell_type": "markdown",
   "metadata": {},
   "source": [
    "# Array Solution"
   ]
  },
  {
   "cell_type": "code",
   "execution_count": 64,
   "metadata": {},
   "outputs": [
    {
     "name": "stderr",
     "output_type": "stream",
     "text": [
      "C:\\Users\\hjur\\AppData\\Local\\Continuum\\anaconda3\\lib\\site-packages\\ipykernel_launcher.py:19: UserWarning: Boolean Series key will be reindexed to match DataFrame index.\n"
     ]
    },
    {
     "name": "stdout",
     "output_type": "stream",
     "text": [
      "done\n"
     ]
    }
   ],
   "source": [
    "import pandas as pd\n",
    "import os\n",
    "\n",
    "filter_settings = {\"family\" : \"TIMP\",\n",
    "           \"location\" : \"cytosol\",\n",
    "            \"sorting\": \"fold induction\",\n",
    "            \"order_ascending\": 0,\n",
    "            \"item\": \"transcript ID\"}\n",
    "\n",
    "\n",
    "countif_settings = {\"column\": \"fold induction\",\n",
    "                   \"value\": 500000}\n",
    "\n",
    "def sort_df(df):\n",
    "    sel_keys = list(filter_settings.keys())\n",
    "    sel1 = df[sel_keys[0]] == filter_settings[sel_keys[0]]\n",
    "    sel2 = df[sel_keys[1]] == filter_settings[sel_keys[1]]\n",
    "    df = df[sel1]\n",
    "    df = df[sel2]\n",
    "    df.sort_values(by=[filter_settings[\"sorting\"]], inplace=True, ascending=bool(filter_settings[\"order_ascending\"]))\n",
    "    df = df[filter_settings[\"item\"]]\n",
    "    item = df.iloc[0]\n",
    "    return item\n",
    "\n",
    "def countif(df):\n",
    "    sel = df[countif_settings[\"column\"]] < countif_settings[\"value\"]\n",
    "    df = df[sel]\n",
    "    return len(df.index)\n",
    "\n",
    "def read_df(filepath):\n",
    "    data = pd.read_csv(filepath)\n",
    "    return data\n",
    "\n",
    "def main():\n",
    "    folder = \"files\"\n",
    "    out_file = \"answers.csv\"\n",
    "    num_of_files = 0\n",
    "    for filename in os.listdir(folder):\n",
    "        if filename.endswith(\".txt\"):\n",
    "            num_of_files += 1\n",
    "    answer_list = []\n",
    "    for filenum in range(num_of_files):\n",
    "        filepath = os.path.join(\"files\", str(filenum + 1) + \".txt\")\n",
    "        df = read_df(filepath)\n",
    "        value = sort_df(df)\n",
    "        counts = countif(df)\n",
    "        answer_list.append((value, counts))\n",
    "    with open(out_file, \"w\") as f:\n",
    "        for i in answer_list:\n",
    "            write_str = \"{};{}\\n\".format(i[0], i[1])\n",
    "            f.write(write_str)\n",
    "    print(\"done\")\n",
    "    \n",
    "main()"
   ]
  },
  {
   "cell_type": "code",
   "execution_count": null,
   "metadata": {},
   "outputs": [],
   "source": []
  },
  {
   "cell_type": "code",
   "execution_count": null,
   "metadata": {},
   "outputs": [],
   "source": []
  }
 ],
 "metadata": {
  "kernelspec": {
   "display_name": "Python 3",
   "language": "python",
   "name": "python3"
  },
  "language_info": {
   "codemirror_mode": {
    "name": "ipython",
    "version": 3
   },
   "file_extension": ".py",
   "mimetype": "text/x-python",
   "name": "python",
   "nbconvert_exporter": "python",
   "pygments_lexer": "ipython3",
   "version": "3.7.4"
  }
 },
 "nbformat": 4,
 "nbformat_minor": 2
}
