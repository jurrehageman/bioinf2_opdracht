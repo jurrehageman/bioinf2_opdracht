{
 "cells": [
  {
   "cell_type": "markdown",
   "metadata": {},
   "source": [
    "# Generate array data"
   ]
  },
  {
   "cell_type": "code",
   "execution_count": 5,
   "metadata": {},
   "outputs": [
    {
     "name": "stdout",
     "output_type": "stream",
     "text": [
      "done\n"
     ]
    }
   ],
   "source": [
    "import sys\n",
    "import random\n",
    "import os\n",
    "\n",
    "\n",
    "def write_file(rows, file_name):\n",
    "    locations = \"nucleus,cytosol,mitochondria,peroxisome,ER,golgi\".split(\",\")\n",
    "    family = \"nuclear receptor,TGF-B,MAPK,TNF,JUN,FOS,TIMP,P53,LIP,KIN,TER,KAR\".split(\",\")\n",
    "    ID = \"NM_0\"\n",
    "    outfile = open(file_name, \"w\")\n",
    "    outfile.write(\"transcript ID,fold induction,family,location\\n\")\n",
    "    for i in range(rows):\n",
    "        location = random.choice(locations)\n",
    "        family_member = random.choice(family)\n",
    "        ID_full = [ID]\n",
    "        for i in range(5):\n",
    "            ID_full.append(str(random.randint(0,9)))\n",
    "        ID_full = \"\".join(ID_full)\n",
    "        fold_induction = random.randint(1, 1000000)\n",
    "        outfile.write(ID_full + \",\" + str(fold_induction) + \",\" + family_member + \",\" + location + \"\\n\")\n",
    "    outfile.close()\n",
    "    \n",
    "    \n",
    "rows = 10000\n",
    "\n",
    "for i in range(100):\n",
    "    filename = str(i + 1) + \".txt\"\n",
    "    filename_complete = os.path.join(\"files\", filename)\n",
    "    write_file(rows, filename_complete)\n",
    "print(\"done\")\n",
    "\n"
   ]
  }
 ],
 "metadata": {
  "kernelspec": {
   "display_name": "Python 3",
   "language": "python",
   "name": "python3"
  },
  "language_info": {
   "codemirror_mode": {
    "name": "ipython",
    "version": 3
   },
   "file_extension": ".py",
   "mimetype": "text/x-python",
   "name": "python",
   "nbconvert_exporter": "python",
   "pygments_lexer": "ipython3",
   "version": "3.7.4"
  }
 },
 "nbformat": 4,
 "nbformat_minor": 2
}
