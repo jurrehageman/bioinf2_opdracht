{
 "cells": [
  {
   "cell_type": "markdown",
   "metadata": {},
   "source": [
    "# Mutation mapping"
   ]
  },
  {
   "cell_type": "code",
   "execution_count": 12,
   "metadata": {},
   "outputs": [
    {
     "name": "stdout",
     "output_type": "stream",
     "text": [
      "done\n"
     ]
    }
   ],
   "source": [
    "import random\n",
    "import os\n",
    "seq = []\n",
    "with open(\"brca1.txt\") as f:\n",
    "    for line in f:\n",
    "        if not line.startswith(\">\"):\n",
    "            line = line.strip()\n",
    "            for letter in line:\n",
    "                seq.append(letter)\n",
    "\n",
    "\n",
    "for file_num in range(100):\n",
    "    dna = \"G A T C\".split()\n",
    "    pos = random.randint(0, len(seq))\n",
    "    base = seq[pos]\n",
    "    dna.remove(base)\n",
    "    dna_mut = seq[:]\n",
    "    dna_mut[pos] = random.choice(dna)\n",
    "    filename = str(file_num + 1) + \".txt\"    \n",
    "    with open(os.path.join(\"files\", filename), \"w\") as f:\n",
    "        f.write(\">my_mutated_brca1\\n\")\n",
    "        f.write(\"\".join(dna_mut))\n",
    "print(\"done\")\n"
   ]
  },
  {
   "cell_type": "code",
   "execution_count": null,
   "metadata": {},
   "outputs": [],
   "source": []
  },
  {
   "cell_type": "code",
   "execution_count": null,
   "metadata": {},
   "outputs": [],
   "source": []
  }
 ],
 "metadata": {
  "kernelspec": {
   "display_name": "Python 3",
   "language": "python",
   "name": "python3"
  },
  "language_info": {
   "codemirror_mode": {
    "name": "ipython",
    "version": 3
   },
   "file_extension": ".py",
   "mimetype": "text/x-python",
   "name": "python",
   "nbconvert_exporter": "python",
   "pygments_lexer": "ipython3",
   "version": "3.7.4"
  }
 },
 "nbformat": 4,
 "nbformat_minor": 2
}
